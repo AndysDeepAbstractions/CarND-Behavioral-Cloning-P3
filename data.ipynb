{
 "cells": [
  {
   "cell_type": "code",
   "execution_count": 1,
   "metadata": {
    "collapsed": false,
    "deletable": true,
    "editable": true
   },
   "outputs": [
    {
     "name": "stdout",
     "output_type": "stream",
     "text": [
      "CPU times: user 1.74 s, sys: 1.51 s, total: 3.25 s\n",
      "Wall time: 11.2 s\n",
      "filesize : 425429504\n"
     ]
    }
   ],
   "source": [
    "import os\n",
    "import requests\n",
    "\n",
    "def download_file_from_google_drive(id, destination):\n",
    "    URL = \"https://docs.google.com/uc?export=download\"\n",
    "\n",
    "    session = requests.Session()\n",
    "\n",
    "    response = session.get(URL, params = { 'id' : id }, stream = True)\n",
    "    token = get_confirm_token(response)\n",
    "\n",
    "    if token:\n",
    "        params = { 'id' : id, 'confirm' : token }\n",
    "        response = session.get(URL, params = params, stream = True)\n",
    "\n",
    "    save_response_content(response, destination)    \n",
    "\n",
    "def get_confirm_token(response):\n",
    "    for key, value in response.cookies.items():\n",
    "        if key.startswith('download_warning'):\n",
    "            return value\n",
    "\n",
    "    return None\n",
    "\n",
    "def save_response_content(response, destination):\n",
    "    CHUNK_SIZE = 32768\n",
    "\n",
    "    with open(destination, \"wb\") as f:\n",
    "        for chunk in response.iter_content(CHUNK_SIZE):\n",
    "            if chunk: # filter out keep-alive new chunks\n",
    "                f.write(chunk)\n",
    "\n",
    "\n",
    "file_id = '0B3ugk5jPCPhSdmhkZkp4RzJrcHM'\n",
    "filename = 'andy_track1_exact_drive2.tar'\n",
    "\n",
    "%time download_file_from_google_drive(file_id, filename)\n",
    "print('filesize : {}'.format(os.path.getsize(filename)))"
   ]
  },
  {
   "cell_type": "code",
   "execution_count": null,
   "metadata": {
    "collapsed": true,
    "deletable": true,
    "editable": true
   },
   "outputs": [],
   "source": [
    "def get_data(url,filename):\n",
    "    import urllib.request\n",
    "    import shutil\n",
    "    import os\n",
    "    if(not(os.path.exists(filename))):\n",
    "        with urllib.request.urlopen(url) as response, open(filename, 'wb') as out_file:\n",
    "            shutil.copyfileobj(response, out_file)\n",
    "\n",
    "#get_data('https://d17h27t6h515a5.cloudfront.net/topher/2016/December/584f6edd_data/data.zip','data.zip')\n",
    "#%time unzip_tracks('data.zip')"
   ]
  },
  {
   "cell_type": "code",
   "execution_count": null,
   "metadata": {
    "collapsed": false,
    "deletable": true,
    "editable": true
   },
   "outputs": [
    {
     "name": "stdout",
     "output_type": "stream",
     "text": [
      "0.5088821633256923555\r"
     ]
    }
   ],
   "source": [
    "# load / unzip\n",
    "def unzip_tracks(filename):\n",
    "    import zipfile\n",
    "\n",
    "    with zipfile.ZipFile(filename,\"r\") as zf:\n",
    "        zf = zipfile.ZipFile(filename)\n",
    "        uncompress_size = sum((file.file_size for file in zf.infolist()))\n",
    "        extracted_size = 0\n",
    "        for file in zf.infolist():\n",
    "            extracted_size += file.file_size\n",
    "            print((extracted_size / uncompress_size), end='\\r',flush=True)\n",
    "            zf.extract(file)\n",
    " \n",
    "def untar(fname):\n",
    "    import tarfile\n",
    "    \n",
    "    with tarfile.open(fname) as tar:\n",
    "        uncompress_size = sum((tarinfo.size for tarinfo in tar))\n",
    "        extracted_size = 0\n",
    "        for tarinfo in tar:\n",
    "            extracted_size += tarinfo.size\n",
    "            print((extracted_size / uncompress_size), end='\\r',flush=True)\n",
    "            tar.extract(tarinfo)\n",
    "\n",
    "\n",
    "#%time unzip_tracks('tracks.zip')\n",
    "%time untar(filename)"
   ]
  }
 ],
 "metadata": {
  "kernelspec": {
   "display_name": "Python 3",
   "language": "python",
   "name": "python3"
  },
  "language_info": {
   "codemirror_mode": {
    "name": "ipython",
    "version": 3
   },
   "file_extension": ".py",
   "mimetype": "text/x-python",
   "name": "python",
   "nbconvert_exporter": "python",
   "pygments_lexer": "ipython3",
   "version": "3.5.3"
  }
 },
 "nbformat": 4,
 "nbformat_minor": 2
}
