{
 "cells": [
  {
   "cell_type": "code",
   "execution_count": 1,
   "metadata": {},
   "outputs": [
    {
     "name": "stdout",
     "output_type": "stream",
     "text": [
      "Requirement already satisfied: requests in /usr/local/lib/python3.5/site-packages\r\n"
     ]
    }
   ],
   "source": [
    "!pip install requests"
   ]
  },
  {
   "cell_type": "code",
   "execution_count": 2,
   "metadata": {},
   "outputs": [
    {
     "name": "stdout",
     "output_type": "stream",
     "text": [
      "mkdir: cannot create directory ‘track_data’: File exists\r\n"
     ]
    }
   ],
   "source": [
    "!mkdir track_data"
   ]
  },
  {
   "cell_type": "code",
   "execution_count": 3,
   "metadata": {},
   "outputs": [
    {
     "name": "stdout",
     "output_type": "stream",
     "text": [
      "Automatic pdb calling has been turned ON\n"
     ]
    }
   ],
   "source": [
    "%pdb"
   ]
  },
  {
   "cell_type": "code",
   "execution_count": null,
   "metadata": {},
   "outputs": [
    {
     "name": "stdout",
     "output_type": "stream",
     "text": [
      "downloading:  ./track_data/andy_track1_rl.zip\n",
      "CPU times: user 1.13 s, sys: 1.36 s, total: 2.49 s\n",
      "Wall time: 8.16 s\n",
      "filesize : 277198797\n",
      "downloading:  ./track_data/andy_track1_offroad2.zip\n",
      "CPU times: user 64 ms, sys: 4 ms, total: 68 ms\n",
      "Wall time: 1.5 s\n",
      "filesize : 2685689\n",
      "downloading:  ./track_data/andy_track1_exact_drive3.zip\n",
      "CPU times: user 672 ms, sys: 1.04 s, total: 1.71 s\n",
      "Wall time: 6.85 s\n",
      "filesize : 218440917\n",
      "downloading:  ./track_data/andy_track1_exact_drive2.tar\n",
      "CPU times: user 1.36 s, sys: 1.38 s, total: 2.74 s\n",
      "Wall time: 11.4 s\n",
      "filesize : 425429504\n",
      "downloading:  ./track_data/track_data.tar\n",
      "CPU times: user 1.85 s, sys: 3.42 s, total: 5.28 s\n",
      "Wall time: 16.9 s\n",
      "filesize : 660872192\n"
     ]
    }
   ],
   "source": [
    "import os\n",
    "import requests\n",
    "\n",
    "def download_file_from_google_drive(id, destination):\n",
    "    URL = \"https://docs.google.com/uc?export=download\"\n",
    "\n",
    "    session = requests.Session()\n",
    "\n",
    "    response = session.get(URL, params = { 'id' : id }, stream = True)\n",
    "    token = get_confirm_token(response)\n",
    "\n",
    "    if token:\n",
    "        params = { 'id' : id, 'confirm' : token }\n",
    "        response = session.get(URL, params = params, stream = True)\n",
    "\n",
    "    save_response_content(response, destination)    \n",
    "\n",
    "def get_confirm_token(response):\n",
    "    for key, value in response.cookies.items():\n",
    "        if key.startswith('download_warning'):\n",
    "            return value\n",
    "\n",
    "    return None\n",
    "\n",
    "def save_response_content(response, destination):\n",
    "    CHUNK_SIZE = 32768\n",
    "\n",
    "    with open(destination, \"wb\") as f:\n",
    "        for chunk in response.iter_content(CHUNK_SIZE):\n",
    "            if chunk: # filter out keep-alive new chunks\n",
    "                f.write(chunk)\n",
    "                \n",
    "\n",
    "file_ids = ['0B3ugk5jPCPhSV0lzdXJMd3QzZms',\n",
    "            '0B3ugk5jPCPhSeXRQSERpOFZrLXM',\n",
    "            '0B3ugk5jPCPhSdHE2b3VmbTBpLVE',\n",
    "            '0B3ugk5jPCPhSdmhkZkp4RzJrcHM',\n",
    "            '0B3ugk5jPCPhSc3hRVmlRanZWTzA']\n",
    "\n",
    "\n",
    "filenames = ['./track_data/andy_track1_rl.zip',\n",
    "             './track_data/andy_track1_offroad2.zip',\n",
    "             './track_data/andy_track1_exact_drive3.zip',\n",
    "             './track_data/andy_track1_exact_drive2.tar',\n",
    "             './track_data/track_data.tar'] \n",
    "\n",
    "for i, (file_id, filename) in enumerate(zip(file_ids,filenames)):\n",
    "    print('downloading: ',filename)\n",
    "    %time download_file_from_google_drive(file_id, filename)\n",
    "    print('filesize : {}'.format(os.path.getsize(filename)))"
   ]
  },
  {
   "cell_type": "code",
   "execution_count": null,
   "metadata": {},
   "outputs": [
    {
     "name": "stdout",
     "output_type": "stream",
     "text": [
      "\n",
      " ./track_data/andy_track1_rl.zip \n",
      "\n",
      "CPU times: user 34.9 s, sys: 11.3 s, total: 46.2 s\n",
      "Wall time: 20min 36s\n",
      "\n",
      " ./track_data/andy_track1_offroad2.zip \n",
      "\n",
      "CPU times: user 320 ms, sys: 108 ms, total: 428 ms\n",
      "Wall time: 11.6 s\n",
      "\n",
      " ./track_data/andy_track1_exact_drive3.zip \n",
      "\n",
      "0.8941943157812864555\r"
     ]
    }
   ],
   "source": [
    "# load / unzip\n",
    "extract_path = './track_data/'   \n",
    "\n",
    "def unzip(filename):\n",
    "    import zipfile\n",
    "\n",
    "    with zipfile.ZipFile(filename,\"r\") as zf:\n",
    "        zf = zipfile.ZipFile(filename)\n",
    "        uncompress_size = sum((file.file_size for file in zf.infolist()))\n",
    "        extracted_size = 0\n",
    "        for file in zf.infolist():\n",
    "            extracted_size += file.file_size\n",
    "            print((extracted_size / uncompress_size), end='\\r',flush=True)\n",
    "            zf.extract(file,path=extract_path)\n",
    " \n",
    "def untar(fname):\n",
    "    import tarfile\n",
    "    \n",
    "    with tarfile.open(fname) as tar:\n",
    "        uncompress_size = sum((tarinfo.size for tarinfo in tar))\n",
    "        extracted_size = 0\n",
    "        for tarinfo in tar:\n",
    "            extracted_size += tarinfo.size\n",
    "            print((extracted_size / uncompress_size), end='\\r',flush=True)\n",
    "            tar.extract(tarinfo,path=extract_path)\n",
    "\n",
    "\n",
    "#%time unzip'tracks.zip')\n",
    "#%time untar(filename)\n",
    "for filename in filenames:\n",
    "    print('\\n\\r',filename,'\\n\\r')\n",
    "    try:\n",
    "        %time unzip(filename)\n",
    "    except:\n",
    "        %time untar(filename)"
   ]
  },
  {
   "cell_type": "code",
   "execution_count": null,
   "metadata": {},
   "outputs": [],
   "source": [
    "def get_data(url,filename):\n",
    "    import urllib.request\n",
    "    import shutil\n",
    "    import os\n",
    "    if(not(os.path.exists(filename))):\n",
    "        with urllib.request.urlopen(url) as response, open(filename, 'wb') as out_file:\n",
    "            shutil.copyfileobj(response, out_file)\n",
    "\n",
    "get_data('https://d17h27t6h515a5.cloudfront.net/topher/2016/December/584f6edd_data/data.zip','data.zip')\n",
    "%time unzip('data.zip',path=extract_path)\n",
    "os.remove('data.zip')"
   ]
  },
  {
   "cell_type": "code",
   "execution_count": null,
   "metadata": {
    "collapsed": true
   },
   "outputs": [],
   "source": [
    "#del on succsess\n",
    "for filename in filenames:\n",
    "    os.remove(filename) "
   ]
  },
  {
   "cell_type": "code",
   "execution_count": null,
   "metadata": {
    "collapsed": true
   },
   "outputs": [],
   "source": [
    "%reset"
   ]
  },
  {
   "cell_type": "code",
   "execution_count": null,
   "metadata": {
    "collapsed": true
   },
   "outputs": [],
   "source": [
    "%pdb"
   ]
  },
  {
   "cell_type": "code",
   "execution_count": null,
   "metadata": {
    "collapsed": true
   },
   "outputs": [],
   "source": [
    "%who"
   ]
  },
  {
   "cell_type": "code",
   "execution_count": null,
   "metadata": {
    "collapsed": true
   },
   "outputs": [],
   "source": [
    "%who_ls"
   ]
  },
  {
   "cell_type": "code",
   "execution_count": null,
   "metadata": {
    "collapsed": true
   },
   "outputs": [],
   "source": [
    "%whos"
   ]
  },
  {
   "cell_type": "code",
   "execution_count": null,
   "metadata": {
    "collapsed": true
   },
   "outputs": [],
   "source": [
    "%colors nocolor"
   ]
  }
 ],
 "metadata": {
  "kernelspec": {
   "display_name": "Python 3",
   "language": "python",
   "name": "python3"
  },
  "language_info": {
   "codemirror_mode": {
    "name": "ipython",
    "version": 3
   },
   "file_extension": ".py",
   "mimetype": "text/x-python",
   "name": "python",
   "nbconvert_exporter": "python",
   "pygments_lexer": "ipython3",
   "version": "3.5.2"
  },
  "widgets": {
   "state": {},
   "version": "1.1.2"
  }
 },
 "nbformat": 4,
 "nbformat_minor": 2
}
